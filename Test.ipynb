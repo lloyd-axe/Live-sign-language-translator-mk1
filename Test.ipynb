{
 "cells": [
  {
   "cell_type": "markdown",
   "id": "04df5a19",
   "metadata": {},
   "source": [
    "# Application of ASLTranslator Module"
   ]
  },
  {
   "cell_type": "code",
   "execution_count": 5,
   "id": "1b5d8164",
   "metadata": {},
   "outputs": [],
   "source": [
    "import os\n",
    "from ASLT import ASLTranslator\n",
    "aslt = ASLTranslator(None, None)"
   ]
  },
  {
   "cell_type": "markdown",
   "id": "52963500",
   "metadata": {},
   "source": [
    "# Collect Data"
   ]
  },
  {
   "cell_type": "code",
   "execution_count": 3,
   "id": "954e5b3c",
   "metadata": {},
   "outputs": [],
   "source": [
    "words = ['Hello', 'yes', 'no']\n",
    "data_path = 'test_data'\n",
    "for word in words:\n",
    "    aslt.collect_word_data(word, data_path, samp_count = 5, frame_count = 10)"
   ]
  },
  {
   "cell_type": "markdown",
   "id": "88c461f6",
   "metadata": {},
   "source": [
    "# Load data"
   ]
  },
  {
   "cell_type": "code",
   "execution_count": 4,
   "id": "789e3b6d",
   "metadata": {
    "collapsed": true
   },
   "outputs": [
    {
     "name": "stdout",
     "output_type": "stream",
     "text": [
      "Loading data for Hello-0-0.npy .....\n",
      "Loading data for Hello-0-1.npy .....\n",
      "Loading data for Hello-0-2.npy .....\n",
      "Loading data for Hello-0-3.npy .....\n",
      "Loading data for Hello-0-4.npy .....\n",
      "Loading data for Hello-0-5.npy .....\n",
      "Loading data for Hello-0-6.npy .....\n",
      "Loading data for Hello-0-7.npy .....\n",
      "Loading data for Hello-0-8.npy .....\n",
      "Loading data for Hello-0-9.npy .....\n",
      "Loading data for Hello-0_r-0_r.npy .....\n",
      "Loading data for Hello-0_r-1_r.npy .....\n",
      "Loading data for Hello-0_r-2_r.npy .....\n",
      "Loading data for Hello-0_r-3_r.npy .....\n",
      "Loading data for Hello-0_r-4_r.npy .....\n",
      "Loading data for Hello-0_r-5_r.npy .....\n",
      "Loading data for Hello-0_r-6_r.npy .....\n",
      "Loading data for Hello-0_r-7_r.npy .....\n",
      "Loading data for Hello-0_r-8_r.npy .....\n",
      "Loading data for Hello-0_r-9_r.npy .....\n",
      "Loading data for Hello-1-0.npy .....\n",
      "Loading data for Hello-1-1.npy .....\n",
      "Loading data for Hello-1-2.npy .....\n",
      "Loading data for Hello-1-3.npy .....\n",
      "Loading data for Hello-1-4.npy .....\n",
      "Loading data for Hello-1-5.npy .....\n",
      "Loading data for Hello-1-6.npy .....\n",
      "Loading data for Hello-1-7.npy .....\n",
      "Loading data for Hello-1-8.npy .....\n",
      "Loading data for Hello-1-9.npy .....\n",
      "Loading data for Hello-1_r-0_r.npy .....\n",
      "Loading data for Hello-1_r-1_r.npy .....\n",
      "Loading data for Hello-1_r-2_r.npy .....\n",
      "Loading data for Hello-1_r-3_r.npy .....\n",
      "Loading data for Hello-1_r-4_r.npy .....\n",
      "Loading data for Hello-1_r-5_r.npy .....\n",
      "Loading data for Hello-1_r-6_r.npy .....\n",
      "Loading data for Hello-1_r-7_r.npy .....\n",
      "Loading data for Hello-1_r-8_r.npy .....\n",
      "Loading data for Hello-1_r-9_r.npy .....\n",
      "Loading data for Hello-2-0.npy .....\n",
      "Loading data for Hello-2-1.npy .....\n",
      "Loading data for Hello-2-2.npy .....\n",
      "Loading data for Hello-2-3.npy .....\n",
      "Loading data for Hello-2-4.npy .....\n",
      "Loading data for Hello-2-5.npy .....\n",
      "Loading data for Hello-2-6.npy .....\n",
      "Loading data for Hello-2-7.npy .....\n",
      "Loading data for Hello-2-8.npy .....\n",
      "Loading data for Hello-2-9.npy .....\n",
      "Loading data for Hello-2_r-0_r.npy .....\n",
      "Loading data for Hello-2_r-1_r.npy .....\n",
      "Loading data for Hello-2_r-2_r.npy .....\n",
      "Loading data for Hello-2_r-3_r.npy .....\n",
      "Loading data for Hello-2_r-4_r.npy .....\n",
      "Loading data for Hello-2_r-5_r.npy .....\n",
      "Loading data for Hello-2_r-6_r.npy .....\n",
      "Loading data for Hello-2_r-7_r.npy .....\n",
      "Loading data for Hello-2_r-8_r.npy .....\n",
      "Loading data for Hello-2_r-9_r.npy .....\n",
      "Loading data for Hello-3-0.npy .....\n",
      "Loading data for Hello-3-1.npy .....\n",
      "Loading data for Hello-3-2.npy .....\n",
      "Loading data for Hello-3-3.npy .....\n",
      "Loading data for Hello-3-4.npy .....\n",
      "Loading data for Hello-3-5.npy .....\n",
      "Loading data for Hello-3-6.npy .....\n",
      "Loading data for Hello-3-7.npy .....\n",
      "Loading data for Hello-3-8.npy .....\n",
      "Loading data for Hello-3-9.npy .....\n",
      "Loading data for Hello-3_r-0_r.npy .....\n",
      "Loading data for Hello-3_r-1_r.npy .....\n",
      "Loading data for Hello-3_r-2_r.npy .....\n",
      "Loading data for Hello-3_r-3_r.npy .....\n",
      "Loading data for Hello-3_r-4_r.npy .....\n",
      "Loading data for Hello-3_r-5_r.npy .....\n",
      "Loading data for Hello-3_r-6_r.npy .....\n",
      "Loading data for Hello-3_r-7_r.npy .....\n",
      "Loading data for Hello-3_r-8_r.npy .....\n",
      "Loading data for Hello-3_r-9_r.npy .....\n",
      "Loading data for Hello-4-0.npy .....\n",
      "Loading data for Hello-4-1.npy .....\n",
      "Loading data for Hello-4-2.npy .....\n",
      "Loading data for Hello-4-3.npy .....\n",
      "Loading data for Hello-4-4.npy .....\n",
      "Loading data for Hello-4-5.npy .....\n",
      "Loading data for Hello-4-6.npy .....\n",
      "Loading data for Hello-4-7.npy .....\n",
      "Loading data for Hello-4-8.npy .....\n",
      "Loading data for Hello-4-9.npy .....\n",
      "Loading data for Hello-4_r-0_r.npy .....\n",
      "Loading data for Hello-4_r-1_r.npy .....\n",
      "Loading data for Hello-4_r-2_r.npy .....\n",
      "Loading data for Hello-4_r-3_r.npy .....\n",
      "Loading data for Hello-4_r-4_r.npy .....\n",
      "Loading data for Hello-4_r-5_r.npy .....\n",
      "Loading data for Hello-4_r-6_r.npy .....\n",
      "Loading data for Hello-4_r-7_r.npy .....\n",
      "Loading data for Hello-4_r-8_r.npy .....\n",
      "Loading data for Hello-4_r-9_r.npy .....\n",
      "Loading data for yes-0-0.npy .....\n",
      "Loading data for yes-0-1.npy .....\n",
      "Loading data for yes-0-2.npy .....\n",
      "Loading data for yes-0-3.npy .....\n",
      "Loading data for yes-0-4.npy .....\n",
      "Loading data for yes-0-5.npy .....\n",
      "Loading data for yes-0-6.npy .....\n",
      "Loading data for yes-0-7.npy .....\n",
      "Loading data for yes-0-8.npy .....\n",
      "Loading data for yes-0-9.npy .....\n",
      "Loading data for yes-0_r-0_r.npy .....\n",
      "Loading data for yes-0_r-1_r.npy .....\n",
      "Loading data for yes-0_r-2_r.npy .....\n",
      "Loading data for yes-0_r-3_r.npy .....\n",
      "Loading data for yes-0_r-4_r.npy .....\n",
      "Loading data for yes-0_r-5_r.npy .....\n",
      "Loading data for yes-0_r-6_r.npy .....\n",
      "Loading data for yes-0_r-7_r.npy .....\n",
      "Loading data for yes-0_r-8_r.npy .....\n",
      "Loading data for yes-0_r-9_r.npy .....\n",
      "Loading data for yes-1-0.npy .....\n",
      "Loading data for yes-1-1.npy .....\n",
      "Loading data for yes-1-2.npy .....\n",
      "Loading data for yes-1-3.npy .....\n",
      "Loading data for yes-1-4.npy .....\n",
      "Loading data for yes-1-5.npy .....\n",
      "Loading data for yes-1-6.npy .....\n",
      "Loading data for yes-1-7.npy .....\n",
      "Loading data for yes-1-8.npy .....\n",
      "Loading data for yes-1-9.npy .....\n",
      "Loading data for yes-1_r-0_r.npy .....\n",
      "Loading data for yes-1_r-1_r.npy .....\n",
      "Loading data for yes-1_r-2_r.npy .....\n",
      "Loading data for yes-1_r-3_r.npy .....\n",
      "Loading data for yes-1_r-4_r.npy .....\n",
      "Loading data for yes-1_r-5_r.npy .....\n",
      "Loading data for yes-1_r-6_r.npy .....\n",
      "Loading data for yes-1_r-7_r.npy .....\n",
      "Loading data for yes-1_r-8_r.npy .....\n",
      "Loading data for yes-1_r-9_r.npy .....\n",
      "Loading data for yes-2-0.npy .....\n",
      "Loading data for yes-2-1.npy .....\n",
      "Loading data for yes-2-2.npy .....\n",
      "Loading data for yes-2-3.npy .....\n",
      "Loading data for yes-2-4.npy .....\n",
      "Loading data for yes-2-5.npy .....\n",
      "Loading data for yes-2-6.npy .....\n",
      "Loading data for yes-2-7.npy .....\n",
      "Loading data for yes-2-8.npy .....\n",
      "Loading data for yes-2-9.npy .....\n",
      "Loading data for yes-2_r-0_r.npy .....\n",
      "Loading data for yes-2_r-1_r.npy .....\n",
      "Loading data for yes-2_r-2_r.npy .....\n",
      "Loading data for yes-2_r-3_r.npy .....\n",
      "Loading data for yes-2_r-4_r.npy .....\n",
      "Loading data for yes-2_r-5_r.npy .....\n",
      "Loading data for yes-2_r-6_r.npy .....\n",
      "Loading data for yes-2_r-7_r.npy .....\n",
      "Loading data for yes-2_r-8_r.npy .....\n",
      "Loading data for yes-2_r-9_r.npy .....\n",
      "Loading data for yes-3-0.npy .....\n",
      "Loading data for yes-3-1.npy .....\n",
      "Loading data for yes-3-2.npy .....\n",
      "Loading data for yes-3-3.npy .....\n",
      "Loading data for yes-3-4.npy .....\n",
      "Loading data for yes-3-5.npy .....\n",
      "Loading data for yes-3-6.npy .....\n",
      "Loading data for yes-3-7.npy .....\n",
      "Loading data for yes-3-8.npy .....\n",
      "Loading data for yes-3-9.npy .....\n",
      "Loading data for yes-3_r-0_r.npy .....\n",
      "Loading data for yes-3_r-1_r.npy .....\n",
      "Loading data for yes-3_r-2_r.npy .....\n",
      "Loading data for yes-3_r-3_r.npy .....\n",
      "Loading data for yes-3_r-4_r.npy .....\n",
      "Loading data for yes-3_r-5_r.npy .....\n",
      "Loading data for yes-3_r-6_r.npy .....\n",
      "Loading data for yes-3_r-7_r.npy .....\n",
      "Loading data for yes-3_r-8_r.npy .....\n",
      "Loading data for yes-3_r-9_r.npy .....\n",
      "Loading data for yes-4-0.npy .....\n",
      "Loading data for yes-4-1.npy .....\n",
      "Loading data for yes-4-2.npy .....\n",
      "Loading data for yes-4-3.npy .....\n",
      "Loading data for yes-4-4.npy .....\n",
      "Loading data for yes-4-5.npy .....\n",
      "Loading data for yes-4-6.npy .....\n",
      "Loading data for yes-4-7.npy .....\n",
      "Loading data for yes-4-8.npy .....\n",
      "Loading data for yes-4-9.npy .....\n",
      "Loading data for yes-4_r-0_r.npy .....\n",
      "Loading data for yes-4_r-1_r.npy .....\n",
      "Loading data for yes-4_r-2_r.npy .....\n",
      "Loading data for yes-4_r-3_r.npy .....\n",
      "Loading data for yes-4_r-4_r.npy .....\n",
      "Loading data for yes-4_r-5_r.npy .....\n",
      "Loading data for yes-4_r-6_r.npy .....\n",
      "Loading data for yes-4_r-7_r.npy .....\n",
      "Loading data for yes-4_r-8_r.npy .....\n",
      "Loading data for yes-4_r-9_r.npy .....\n",
      "Loading data for no-0-0.npy .....\n",
      "Loading data for no-0-1.npy .....\n",
      "Loading data for no-0-2.npy .....\n",
      "Loading data for no-0-3.npy .....\n",
      "Loading data for no-0-4.npy .....\n",
      "Loading data for no-0-5.npy .....\n",
      "Loading data for no-0-6.npy .....\n",
      "Loading data for no-0-7.npy .....\n",
      "Loading data for no-0-8.npy .....\n",
      "Loading data for no-0-9.npy .....\n",
      "Loading data for no-0_r-0_r.npy .....\n",
      "Loading data for no-0_r-1_r.npy .....\n",
      "Loading data for no-0_r-2_r.npy .....\n",
      "Loading data for no-0_r-3_r.npy .....\n",
      "Loading data for no-0_r-4_r.npy .....\n",
      "Loading data for no-0_r-5_r.npy .....\n",
      "Loading data for no-0_r-6_r.npy .....\n",
      "Loading data for no-0_r-7_r.npy .....\n",
      "Loading data for no-0_r-8_r.npy .....\n",
      "Loading data for no-0_r-9_r.npy .....\n",
      "Loading data for no-1-0.npy .....\n",
      "Loading data for no-1-1.npy .....\n",
      "Loading data for no-1-2.npy .....\n",
      "Loading data for no-1-3.npy .....\n",
      "Loading data for no-1-4.npy .....\n",
      "Loading data for no-1-5.npy .....\n",
      "Loading data for no-1-6.npy .....\n",
      "Loading data for no-1-7.npy .....\n",
      "Loading data for no-1-8.npy .....\n",
      "Loading data for no-1-9.npy .....\n",
      "Loading data for no-1_r-0_r.npy .....\n",
      "Loading data for no-1_r-1_r.npy .....\n",
      "Loading data for no-1_r-2_r.npy .....\n",
      "Loading data for no-1_r-3_r.npy .....\n",
      "Loading data for no-1_r-4_r.npy .....\n",
      "Loading data for no-1_r-5_r.npy .....\n",
      "Loading data for no-1_r-6_r.npy .....\n",
      "Loading data for no-1_r-7_r.npy .....\n",
      "Loading data for no-1_r-8_r.npy .....\n",
      "Loading data for no-1_r-9_r.npy .....\n",
      "Loading data for no-2-0.npy .....\n",
      "Loading data for no-2-1.npy .....\n",
      "Loading data for no-2-2.npy .....\n",
      "Loading data for no-2-3.npy .....\n",
      "Loading data for no-2-4.npy .....\n",
      "Loading data for no-2-5.npy .....\n",
      "Loading data for no-2-6.npy .....\n",
      "Loading data for no-2-7.npy .....\n",
      "Loading data for no-2-8.npy .....\n",
      "Loading data for no-2-9.npy .....\n",
      "Loading data for no-2_r-0_r.npy .....\n",
      "Loading data for no-2_r-1_r.npy .....\n",
      "Loading data for no-2_r-2_r.npy .....\n",
      "Loading data for no-2_r-3_r.npy .....\n",
      "Loading data for no-2_r-4_r.npy .....\n",
      "Loading data for no-2_r-5_r.npy .....\n",
      "Loading data for no-2_r-6_r.npy .....\n",
      "Loading data for no-2_r-7_r.npy .....\n",
      "Loading data for no-2_r-8_r.npy .....\n",
      "Loading data for no-2_r-9_r.npy .....\n",
      "Loading data for no-3-0.npy .....\n",
      "Loading data for no-3-1.npy .....\n",
      "Loading data for no-3-2.npy .....\n",
      "Loading data for no-3-3.npy .....\n",
      "Loading data for no-3-4.npy .....\n",
      "Loading data for no-3-5.npy .....\n",
      "Loading data for no-3-6.npy .....\n",
      "Loading data for no-3-7.npy .....\n",
      "Loading data for no-3-8.npy .....\n",
      "Loading data for no-3-9.npy .....\n",
      "Loading data for no-3_r-0_r.npy .....\n",
      "Loading data for no-3_r-1_r.npy .....\n",
      "Loading data for no-3_r-2_r.npy .....\n",
      "Loading data for no-3_r-3_r.npy .....\n",
      "Loading data for no-3_r-4_r.npy .....\n",
      "Loading data for no-3_r-5_r.npy .....\n",
      "Loading data for no-3_r-6_r.npy .....\n",
      "Loading data for no-3_r-7_r.npy .....\n",
      "Loading data for no-3_r-8_r.npy .....\n",
      "Loading data for no-3_r-9_r.npy .....\n",
      "Loading data for no-4-0.npy .....\n",
      "Loading data for no-4-1.npy .....\n",
      "Loading data for no-4-2.npy .....\n",
      "Loading data for no-4-3.npy .....\n",
      "Loading data for no-4-4.npy .....\n",
      "Loading data for no-4-5.npy .....\n",
      "Loading data for no-4-6.npy .....\n",
      "Loading data for no-4-7.npy .....\n",
      "Loading data for no-4-8.npy .....\n",
      "Loading data for no-4-9.npy .....\n",
      "Loading data for no-4_r-0_r.npy .....\n",
      "Loading data for no-4_r-1_r.npy .....\n",
      "Loading data for no-4_r-2_r.npy .....\n",
      "Loading data for no-4_r-3_r.npy .....\n",
      "Loading data for no-4_r-4_r.npy .....\n",
      "Loading data for no-4_r-5_r.npy .....\n",
      "Loading data for no-4_r-6_r.npy .....\n",
      "Loading data for no-4_r-7_r.npy .....\n",
      "Loading data for no-4_r-8_r.npy .....\n",
      "Loading data for no-4_r-9_r.npy .....\n"
     ]
    }
   ],
   "source": [
    "sequences, labels = aslt.get_npy_from_directory(data_path)"
   ]
  },
  {
   "cell_type": "markdown",
   "id": "c0230599",
   "metadata": {},
   "source": [
    "# Create model"
   ]
  },
  {
   "cell_type": "code",
   "execution_count": 35,
   "id": "3aa02d2e",
   "metadata": {},
   "outputs": [
    {
     "name": "stdout",
     "output_type": "stream",
     "text": [
      "WARNING:tensorflow:Layer lstm_21 will not use cuDNN kernels since it doesn't meet the criteria. It will use a generic GPU kernel as fallback when running on GPU.\n",
      "WARNING:tensorflow:Layer lstm_22 will not use cuDNN kernels since it doesn't meet the criteria. It will use a generic GPU kernel as fallback when running on GPU.\n",
      "WARNING:tensorflow:Layer lstm_23 will not use cuDNN kernels since it doesn't meet the criteria. It will use a generic GPU kernel as fallback when running on GPU.\n"
     ]
    }
   ],
   "source": [
    "with open(os.path.join(data_path, 'word_list.txt')) as file:\n",
    "    words = [line.rstrip() for line in file]\n",
    "model = aslt.create_model(len(words), interval = 10)\n",
    "x_train, x_test, x_val, y_train, y_test, y_val = aslt.split_data(sequences, labels)"
   ]
  },
  {
   "cell_type": "markdown",
   "id": "8e4eef6e",
   "metadata": {},
   "source": [
    "# Train model"
   ]
  },
  {
   "cell_type": "code",
   "execution_count": 36,
   "id": "afdaee19",
   "metadata": {},
   "outputs": [],
   "source": [
    "import tensorflow as tf"
   ]
  },
  {
   "cell_type": "code",
   "execution_count": 46,
   "id": "b7c7af03",
   "metadata": {},
   "outputs": [
    {
     "name": "stdout",
     "output_type": "stream",
     "text": [
      "Epoch 1/100\n",
      "3/3 [==============================] - ETA: 0s - loss: 0.0594 - categorical_accuracy: 0.9670\n",
      "Epoch 1: val_categorical_accuracy improved from -inf to 0.91304, saving model to checkpoints\\mdl-01-0.913043.hdf5\n",
      "3/3 [==============================] - 1s 239ms/step - loss: 0.0594 - categorical_accuracy: 0.9670 - val_loss: 0.1451 - val_categorical_accuracy: 0.9130\n",
      "Epoch 2/100\n",
      "3/3 [==============================] - ETA: 0s - loss: 0.0918 - categorical_accuracy: 0.9670\n",
      "Epoch 2: val_categorical_accuracy did not improve from 0.91304\n",
      "3/3 [==============================] - 1s 180ms/step - loss: 0.0918 - categorical_accuracy: 0.9670 - val_loss: 0.1557 - val_categorical_accuracy: 0.9130\n",
      "Epoch 3/100\n",
      "3/3 [==============================] - ETA: 0s - loss: 0.0940 - categorical_accuracy: 0.9451\n",
      "Epoch 3: val_categorical_accuracy did not improve from 0.91304\n",
      "3/3 [==============================] - 1s 187ms/step - loss: 0.0940 - categorical_accuracy: 0.9451 - val_loss: 0.4155 - val_categorical_accuracy: 0.8696\n",
      "Epoch 4/100\n",
      "3/3 [==============================] - ETA: 0s - loss: 0.1216 - categorical_accuracy: 0.9231\n",
      "Epoch 4: val_categorical_accuracy did not improve from 0.91304\n",
      "3/3 [==============================] - 1s 179ms/step - loss: 0.1216 - categorical_accuracy: 0.9231 - val_loss: 0.4765 - val_categorical_accuracy: 0.8261\n",
      "Epoch 5/100\n",
      "3/3 [==============================] - ETA: 0s - loss: 0.1426 - categorical_accuracy: 0.9341\n",
      "Epoch 5: val_categorical_accuracy did not improve from 0.91304\n",
      "3/3 [==============================] - 1s 190ms/step - loss: 0.1426 - categorical_accuracy: 0.9341 - val_loss: 0.2333 - val_categorical_accuracy: 0.8696\n",
      "Epoch 6/100\n",
      "3/3 [==============================] - ETA: 0s - loss: 0.0790 - categorical_accuracy: 0.9780\n",
      "Epoch 6: val_categorical_accuracy did not improve from 0.91304\n",
      "3/3 [==============================] - 1s 204ms/step - loss: 0.0790 - categorical_accuracy: 0.9780 - val_loss: 0.2198 - val_categorical_accuracy: 0.8696\n",
      "Epoch 6: early stopping\n"
     ]
    },
    {
     "data": {
      "image/png": "[encoded data removed]",
      "text/plain": [
       "<Figure size 1152x720 with 1 Axes>"
      ]
     },
     "metadata": {
      "needs_background": "light"
     },
     "output_type": "display_data"
    }
   ],
   "source": [
    "train_data = (x_train, y_train)\n",
    "val_data = (x_val, y_val)\n",
    "with tf.device('/gpu:0'):\n",
    "    aslt.train_model(model, train_data, val_data, plot = True, epochs = 100, model_name='test_model.h5')"
   ]
  },
  {
   "cell_type": "code",
   "execution_count": 47,
   "id": "7792a6dd",
   "metadata": {},
   "outputs": [
    {
     "name": "stdout",
     "output_type": "stream",
     "text": [
      "1/1 [==============================] - 0s 50ms/step - loss: 0.3293 - categorical_accuracy: 0.8333\n"
     ]
    }
   ],
   "source": [
    "test_error, accuracy = model.evaluate(x_test, y_test, verbose=1)"
   ]
  },
  {
   "cell_type": "markdown",
   "id": "2b0ae495",
   "metadata": {},
   "source": [
    "# TEST APPLICATION"
   ]
  },
  {
   "cell_type": "code",
   "execution_count": 48,
   "id": "ceb926ee",
   "metadata": {},
   "outputs": [],
   "source": [
    "MODEL_PATH = 'test_model.h5'\n",
    "WORDLIST_PATH = os.path.join(data_path, 'word_list.txt')"
   ]
  },
  {
   "cell_type": "code",
   "execution_count": 49,
   "id": "8a6aec05",
   "metadata": {},
   "outputs": [
    {
     "name": "stdout",
     "output_type": "stream",
     "text": [
      "WARNING:tensorflow:Layer lstm_24 will not use cuDNN kernels since it doesn't meet the criteria. It will use a generic GPU kernel as fallback when running on GPU.\n",
      "WARNING:tensorflow:Layer lstm_25 will not use cuDNN kernels since it doesn't meet the criteria. It will use a generic GPU kernel as fallback when running on GPU.\n",
      "WARNING:tensorflow:Layer lstm_26 will not use cuDNN kernels since it doesn't meet the criteria. It will use a generic GPU kernel as fallback when running on GPU.\n"
     ]
    }
   ],
   "source": [
    "aslt = ASLTranslator(MODEL_PATH, WORDLIST_PATH)"
   ]
  },
  {
   "cell_type": "code",
   "execution_count": 50,
   "id": "7d60c6e6",
   "metadata": {},
   "outputs": [
    {
     "name": "stdout",
     "output_type": "stream",
     "text": [
      "Start video Capture\n",
      "Press Q to exit\n"
     ]
    }
   ],
   "source": [
    "aslt.start_capture(threshold = 0.8, draw = [True, False, True, True])"
   ]
  },
  {
   "cell_type": "code",
   "execution_count": null,
   "id": "db01783b",
   "metadata": {},
   "outputs": [],
   "source": []
  },
  {
   "cell_type": "code",
   "execution_count": null,
   "id": "51fb689f",
   "metadata": {},
   "outputs": [],
   "source": []
  }
 ],
 "metadata": {
  "kernelspec": {
   "display_name": "Python 3 (ipykernel)",
   "language": "python",
   "name": "python3"
  },
  "language_info": {
   "codemirror_mode": {
    "name": "ipython",
    "version": 3
   },
   "file_extension": ".py",
   "mimetype": "text/x-python",
   "name": "python",
   "nbconvert_exporter": "python",
   "pygments_lexer": "ipython3",
   "version": "3.9.8"
  }
 },
 "nbformat": 4,
 "nbformat_minor": 5
}
